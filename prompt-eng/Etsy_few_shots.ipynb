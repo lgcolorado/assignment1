{
 "cells": [
  {
   "cell_type": "markdown",
   "metadata": {},
   "source": [
    "\n",
    "\n"
   ]
  },
  {
   "cell_type": "markdown",
   "metadata": {},
   "source": [
    "# Few-Shots Prompting\n",
    "\n",
    "Few-shot prompting can be used as a technique to enable in-context learning where we provide demonstrations in the prompt to steer the model to better performance. The demonstrations serve as conditioning for subsequent examples where we would like the model to generate a response.\n",
    "\n",
    "## References:\n",
    "* [Touvron et al. 2023](https://arxiv.org/pdf/2302.13971.pdf): present few shot properties  when models were scaled to a sufficient size\n",
    "* [Kaplan et al., 2020](https://arxiv.org/abs/2001.08361)\n",
    "* [Brown et al. 2020](https://arxiv.org/abs/2005.14165)\n"
   ]
  },
  {
   "cell_type": "markdown",
   "metadata": {},
   "source": [
    "## Running this code on MyBind.org\n",
    "\n",
    "Note: remember that you will need to **adjust CONFIG** with **proper URL and API_KEY**!\n",
    "\n",
    "[![Binder](https://mybinder.org/badge_logo.svg)](https://mybinder.org/v2/gh/GenILab-FAU/prompt-eng/HEAD?urlpath=%2Fdoc%2Ftree%2Fprompt-eng%2Ffew_shots.ipynb)\n",
    "\n"
   ]
  },
  {
   "cell_type": "code",
   "execution_count": null,
   "metadata": {},
   "outputs": [],
   "source": [
    "##\n",
    "## FEW SHOTS PROMPTING\n",
    "##\n",
    "\n",
    "from _pipeline import create_payload, model_req\n",
    "\n",
    "#### (1) Few-Shot Prompt Setup  \n",
    "FEW_SHOT_PROMPT = \"\"\"\n",
    "Here are examples of requirement analyses for different online platforms:\n",
    "\n",
    "Example 1:  \n",
    "Platform: AI-Powered Resume Builder  \n",
    "Functional Requirements:  \n",
    "- User account creation and login  \n",
    "- Resume template selection  \n",
    "- AI-generated suggestions for resume improvement  \n",
    "- Export options (PDF, DOCX)  \n",
    "\n",
    "Non-Functional Requirements:  \n",
    "- High uptime (99.9%)  \n",
    "- Fast response time (< 2s)  \n",
    "- Secure data encryption  \n",
    "\n",
    "---\n",
    "\n",
    "Example 2:  \n",
    "Platform: Online Learning Management System  \n",
    "Functional Requirements:  \n",
    "- User roles (students, teachers, admins)  \n",
    "- Course creation and management  \n",
    "- Quiz and assignment grading  \n",
    "- Video lecture hosting  \n",
    "\n",
    "Non-Functional Requirements:  \n",
    "- Scalability for 100,000+ users  \n",
    "- Secure student data storage  \n",
    "- Multi-device compatibility  \n",
    "\n",
    "---\n",
    "\n",
    "Now, generate a requirement analysis for an **Etsy-like online marketplace** using the same structured format.\n",
    "\"\"\"\n",
    "\n",
    "#### (2) Model Request\n",
    "payload = create_payload(target=\"ollama\",\n",
    "                         model=\"llama3.2:latest\",  \n",
    "                         prompt=FEW_SHOT_PROMPT, \n",
    "                         temperature=0.7,  \n",
    "                         num_ctx=200,  \n",
    "                         num_predict=500)\n",
    "\n",
    "#### (3) Send Request and Print Response\n",
    "time, response = model_req(payload=payload)\n",
    "print(\"\\nGenerated Requirement Analysis:\\n\", response)\n",
    "if time: print(f\"Time taken: {time}s\")"
   ]
  },
  {
   "cell_type": "markdown",
   "metadata": {},
   "source": [
    "Parameter Tuning \n",
    "1. Lower temperature for More Focused Output\n",
    "Current: temperature=0.7\n",
    "To: temperature=0.3\n",
    "2. Optimize num_ctx for More Context Awareness\n",
    "Current: num_ctx=200\n",
    "To: num_ctx=300\n",
    "3. Reduce num_predict to Prevent Over-Generation\n",
    "To: num_predict=500\n",
    "Suggested: num_predict=400\n"
   ]
  },
  {
   "cell_type": "markdown",
   "metadata": {},
   "source": []
  },
  {
   "cell_type": "markdown",
   "metadata": {},
   "source": [
    "Time Taken\n",
    "From: 115.122s to 80.121s"
   ]
  },
  {
   "cell_type": "markdown",
   "metadata": {},
   "source": []
  }
 ],
 "metadata": {
  "kernelspec": {
   "display_name": "Python 3",
   "language": "python",
   "name": "python3"
  },
  "language_info": {
   "codemirror_mode": {
    "name": "ipython",
    "version": 3
   },
   "file_extension": ".py",
   "mimetype": "text/x-python",
   "name": "python",
   "nbconvert_exporter": "python",
   "pygments_lexer": "ipython3",
   "version": "3.13.1"
  }
 },
 "nbformat": 4,
 "nbformat_minor": 2
}
